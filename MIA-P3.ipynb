{
 "cells": [
  {
   "cell_type": "markdown",
   "metadata": {},
   "source": [
    "##### 1.1.Función de densidad asociada a una variable aleatoria binomial."
   ]
  },
  {
   "cell_type": "code",
   "execution_count": 6,
   "metadata": {},
   "outputs": [],
   "source": [
    "def factorial(x):\n",
    "    fact = 1\n",
    "    for i in range(1,x+1): \n",
    "        fact = fact * i\n",
    "    return fact\n",
    "\n",
    "def fDensidadAleatoriaBinomial(n,p,k):\n",
    "    q = 1-p\n",
    "    probablidad = 0.0\n",
    "    f1 = factorial(n)\n",
    "    f2 = factorial(k)\n",
    "    f3 = factorial(n-k)\n",
    "    pow1 = pow(p,k)\n",
    "    pow2 = pow(q,(n-k))\n",
    "\n",
    "    probabilidad = f1/(f2*f3)*pow1*pow2\n",
    "    return probabilidad"
   ]
  },
  {
   "cell_type": "markdown",
   "metadata": {},
   "source": [
    "##### 1.2.Función distribución de la distribución binomial."
   ]
  },
  {
   "cell_type": "code",
   "execution_count": 11,
   "metadata": {},
   "outputs": [],
   "source": [
    "#Para X <= k\n",
    "def fDensidadAleatoriaBinomialmenorK(n,p,k):\n",
    "    result = 0\n",
    "    for i in range(k+1):\n",
    "        result += fDensidadAleatoriaBinomial(n,p,i)\n",
    "    return result"
   ]
  },
  {
   "cell_type": "markdown",
   "metadata": {},
   "source": [
    "##### 2.1.Probabilidad de que ocurra un determinado suceso."
   ]
  },
  {
   "cell_type": "code",
   "execution_count": 17,
   "metadata": {},
   "outputs": [
    {
     "name": "stdout",
     "output_type": "stream",
     "text": [
      "La probabilidad de que ocurra este suceso más de tres veces en 10 días es: 12.087388159999946 porciento\n"
     ]
    }
   ],
   "source": [
    "print('La probabilidad de que ocurra este suceso más de tres veces en 10 días es:', (1-fDensidadAleatoriaBinomialmenorK(10, 0.2, 3)) *100,'porciento')"
   ]
  },
  {
   "cell_type": "markdown",
   "metadata": {},
   "source": [
    "##### 2.2.Probabilidad de que ocurra un determinado suceso."
   ]
  },
  {
   "cell_type": "code",
   "execution_count": 51,
   "metadata": {},
   "outputs": [
    {
     "name": "stdout",
     "output_type": "stream",
     "text": [
      "La prosibilidad de que ocurra este suceso es de: 99.98572668607655\n"
     ]
    }
   ],
   "source": [
    "import numpy as np\n",
    "#fDensidadAleatoriaBinomialmenorK((365*24*3600), 0.00000018, 4)\n",
    "#Si, con el método anterior es muy lento este algoritmo.\n",
    "# Aplicando la Distribuci´on de Poisson obtenemos ->\n",
    "n = 31536000\n",
    "p = 0.00000018\n",
    "\n",
    "alpha = n*p\n",
    "\n",
    "result = 1- (pow(np.e, -alpha)/24)\n",
    "print('La prosibilidad de que ocurra este suceso es de:', result*100)"
   ]
  },
  {
   "cell_type": "markdown",
   "metadata": {},
   "source": [
    "##### 2.3.Probabidad de que salgan 4950 veces"
   ]
  },
  {
   "cell_type": "code",
   "execution_count": 50,
   "metadata": {},
   "outputs": [
    {
     "name": "stdout",
     "output_type": "stream",
     "text": [
      "La probabilidad de que ocurra este suceso es de: 0.4382693235899588\n"
     ]
    }
   ],
   "source": [
    "import math\n",
    "#Los números son deamsiado grnades para el apartado anterior\n",
    "#Aplicando el teorema del limite central obtenemos ->\n",
    "\n",
    "numerador = 25049-30000*(5/6)\n",
    "desviacion = math.sqrt(30000*(1/6)*(5/6))\n",
    "result = numerador / (desviacion * math.sqrt(30000))\n",
    "\n",
    "print('La probabilidad de que ocurra este suceso es de:',result*100)"
   ]
  },
  {
   "cell_type": "code",
   "execution_count": null,
   "metadata": {},
   "outputs": [],
   "source": []
  }
 ],
 "metadata": {
  "kernelspec": {
   "display_name": "Python 3",
   "language": "python",
   "name": "python3"
  },
  "language_info": {
   "codemirror_mode": {
    "name": "ipython",
    "version": 3
   },
   "file_extension": ".py",
   "mimetype": "text/x-python",
   "name": "python",
   "nbconvert_exporter": "python",
   "pygments_lexer": "ipython3",
   "version": "3.7.6"
  }
 },
 "nbformat": 4,
 "nbformat_minor": 4
}
