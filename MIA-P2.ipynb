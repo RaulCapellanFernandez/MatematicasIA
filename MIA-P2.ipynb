{
 "cells": [
  {
   "cell_type": "code",
   "execution_count": 1,
   "metadata": {},
   "outputs": [],
   "source": [
    "import numpy as np\n",
    "import math"
   ]
  },
  {
   "cell_type": "markdown",
   "metadata": {},
   "source": [
    "##### 1.Método de la Bisección:"
   ]
  },
  {
   "cell_type": "code",
   "execution_count": 2,
   "metadata": {},
   "outputs": [],
   "source": [
    "def bisec(f,a,b,N=100,errorMax=10e-10):\n",
    "    x = (a+b)/2\n",
    "    \n",
    "    for k in range(N):\n",
    "        #Cambio de signo parte derecha\n",
    "        if f(x)*f(b)<0:\n",
    "            a = x \n",
    "        #Cambio de signo parte izquierda\n",
    "        elif f(x)*f(a)<0:\n",
    "            b = x\n",
    "        #Cuando encuentra la solucion\n",
    "        else:\n",
    "            break;\n",
    "            \n",
    "        xold = x\n",
    "        x = (a+b)/2\n",
    "        error = abs((x-xold)/x)\n",
    "        \n",
    "        if(error) < errorMax:\n",
    "            break\n",
    "        print(k,x,f(x), error)"
   ]
  },
  {
   "cell_type": "code",
   "execution_count": 3,
   "metadata": {},
   "outputs": [
    {
     "name": "stdout",
     "output_type": "stream",
     "text": [
      "0 1.1781 0.38268088716437737 0.3333333333333333\n",
      "1 1.37445 0.19508716971781054 0.14285714285714288\n",
      "2 1.4726249999999999 0.09801371328121382 0.06666666666666661\n",
      "3 1.5217125 0.04906412019593309 0.03225806451612914\n",
      "4 1.5462562499999999 0.024537613800493095 0.015873015873015785\n",
      "5 1.558528125 0.012267894051874647 0.007874015748031595\n",
      "6 1.5646640625 0.006132225861344512 0.003921568627450888\n",
      "7 1.5677320312499998 0.0030642907493239196 0.0019569471624265684\n",
      "8 1.5692660156249998 0.0015303105726031181 0.0009775171065493416\n",
      "9 1.5700330078125 0.0007633189082712484 0.0004885197850514245\n",
      "10 1.5704165039062499 0.00037982287951419534 0.00024420024420016776\n",
      "11 1.570608251953125 0.00018807484066281666 0.00012208521548050846\n",
      "12 1.5707041259765626 9.220081820337107e-05 6.103888176773758e-05\n",
      "13 1.5707520629882814 4.426380660075939e-05 3.0518509476022976e-05\n",
      "14 1.5707760314941406 2.0295300754647147e-05 1.5259021896567954e-05\n",
      "15 1.5707880157470702 8.311047826358134e-06 7.629452739290774e-06\n",
      "16 1.570794007873535 2.318921361658434e-06 3.814711817563623e-06\n",
      "17 1.5707970039367676 -6.771418709581314e-07 1.907352270923546e-06\n",
      "18 1.5707955059051513 8.208897453510723e-07 9.536770449608115e-07\n",
      "19 1.5707962549209595 7.187393708546833e-08 4.768382951762167e-07\n",
      "20 1.5707966294288636 -3.026339669363528e-07 2.3841909067375295e-07\n",
      "21 1.5707964421749114 -1.1538001481442193e-07 1.1920955961847287e-07\n",
      "22 1.5707963485479355 -2.175303886447689e-08 5.960478329128743e-08\n",
      "23 1.5707963017344475 2.5060449110495747e-08 2.9802392533826286e-08\n",
      "24 1.5707963251411914 1.6537052340317312e-09 1.4901195974188506e-08\n",
      "25 1.5707963368445634 -1.0049666815222582e-08 7.450598002261835e-09\n",
      "26 1.5707963309928774 -4.197980790595425e-09 3.72529901500877e-09\n",
      "27 1.5707963280670345 -1.2721378893041494e-09 1.862649440294855e-09\n"
     ]
    }
   ],
   "source": [
    "def f(x):\n",
    "    return np.cos(x)\n",
    "\n",
    "bisec(f,0,3.1416/2)"
   ]
  },
  {
   "cell_type": "code",
   "execution_count": 4,
   "metadata": {},
   "outputs": [
    {
     "name": "stdout",
     "output_type": "stream",
     "text": [
      "0 0.75 0.171875 0.3333333333333333\n",
      "1 0.625 -0.130859375 0.2\n",
      "2 0.6875 0.012451171875 0.09090909090909091\n",
      "3 0.65625 -0.061126708984375 0.047619047619047616\n",
      "4 0.671875 -0.024829864501953125 0.023255813953488372\n",
      "5 0.6796875 -0.006313800811767578 0.011494252873563218\n",
      "6 0.68359375 0.003037393093109131 0.005714285714285714\n",
      "7 0.681640625 -0.0016460046172142029 0.0028653295128939827\n",
      "8 0.6826171875 0.0006937412545084953 0.001430615164520744\n",
      "9 0.68212890625 -0.00047661957796663046 0.0007158196134574087\n",
      "10 0.682373046875 0.00010843882046174258 0.00035778175313059033\n",
      "11 0.6822509765625 -0.0001841208777477732 0.0001789228842368939\n",
      "12 0.68231201171875 -3.7848654073968646e-05 8.94534394847482e-05\n",
      "13 0.682342529296875 3.5293176750883504e-05 4.472471935238606e-05\n",
      "14 0.6823272705078125 -1.278215261635296e-06 2.236285976250643e-05\n",
      "15 0.6823348999023438 1.7007361593268655e-05 1.118130485827696e-05\n",
      "16 0.6823310852050781 7.86454337808884e-06 5.590683684707803e-06\n",
      "17 0.6823291778564453 3.293156611405834e-06 2.7953496563117597e-06\n",
      "18 0.6823282241821289 1.0074688132633014e-06 1.3976767816535354e-06\n",
      "19 0.6823277473449707 -1.353736897025115e-07 6.988388792022055e-07\n",
      "20 0.6823279857635498 4.360474452624885e-07 3.4941931750720065e-07\n",
      "21 0.6823278665542603 1.503368487476564e-07 1.7470968927707053e-07\n",
      "22 0.6823278069496155 7.481572250611634e-09 8.735485226940481e-08\n",
      "23 0.6823277771472931 -6.394606044679563e-08 4.3677428042420044e-08\n",
      "24 0.6823277920484543 -2.8232244542181206e-08 2.18387135442806e-08\n",
      "25 0.6823277994990349 -1.0375336256807088e-08 1.0919356652907949e-08\n",
      "26 0.6823278032243252 -1.4468819475865757e-09 5.4596782966458874e-09\n",
      "27 0.6823278050869703 3.017345040490227e-09 2.729839140870922e-09\n",
      "28 0.6823278041556478 7.852314354295231e-10 1.3649195722984665e-09\n"
     ]
    }
   ],
   "source": [
    "def f(x):\n",
    "    return pow(x,3)+x-1\n",
    "bisec(f,0,1)"
   ]
  },
  {
   "cell_type": "markdown",
   "metadata": {},
   "source": [
    "##### 2.Número óptimo de procesadores en paralelo para ejecutar el algoritmo lo más rapidamente posible?"
   ]
  },
  {
   "cell_type": "markdown",
   "metadata": {},
   "source": [
    "f(x) = 100x -0.8x    \n",
    "f(x) = 99.2X    \n",
    "f`(x) = 99.2\n",
    "\n",
    "99.2 = 100x -0.8x\n",
    " \n",
    "x= 1\n",
    "Para ejecutar este algoritmo lo más rápido posible haría falta 1 procesador"
   ]
  },
  {
   "cell_type": "markdown",
   "metadata": {},
   "source": [
    "##### 3.1.Dados los coeficientes de un polinomio almacenados en un vector, devuelve otro vector con los coeficientes del polinomio resultante de su derivada"
   ]
  },
  {
   "cell_type": "code",
   "execution_count": 5,
   "metadata": {},
   "outputs": [],
   "source": [
    "def coefDerv(v1, v2):\n",
    "    v1.reverse()\n",
    "    for i in range(len(v1)):\n",
    "        v2[i] = i * v1[i]\n",
    "    v2.reverse()\n",
    "    return(v2)"
   ]
  },
  {
   "cell_type": "code",
   "execution_count": 6,
   "metadata": {},
   "outputs": [
    {
     "name": "stdout",
     "output_type": "stream",
     "text": [
      "[15, 8, 6, 0]\n"
     ]
    }
   ],
   "source": [
    "v1 = [5,4,6,0]\n",
    "v2 = np.zeros(len(v1))\n",
    "v2 = list(v2)\n",
    "\n",
    "print(coefDerv(v1,v2))"
   ]
  },
  {
   "cell_type": "markdown",
   "metadata": {},
   "source": [
    "##### 3.2.Generaliza la función anterior para calcular los coeficientes de la derivada de cualquier orden."
   ]
  },
  {
   "cell_type": "code",
   "execution_count": 7,
   "metadata": {},
   "outputs": [],
   "source": [
    "def coefDervN(vector, N): \n",
    "    a =len(vector)\n",
    "    vector.reverse()\n",
    "    for j in range(N):\n",
    "        if j != 0:\n",
    "            vector.reverse()\n",
    "            vector.pop()\n",
    "            vector.reverse()\n",
    "        for i in range(len(vector)):\n",
    "            vector[i] = i * vector[i]\n",
    "    vector.reverse() \n",
    "    for k in range(a-len(vector)):\n",
    "        vector.append(0)\n",
    "    return(vector)"
   ]
  },
  {
   "cell_type": "code",
   "execution_count": 8,
   "metadata": {},
   "outputs": [
    {
     "name": "stdout",
     "output_type": "stream",
     "text": [
      "[30, 8, 0, 0]\n"
     ]
    }
   ],
   "source": [
    "vector = [5,4,6,6]\n",
    "N=2\n",
    "\n",
    "print(coefDervN(vector,N))"
   ]
  },
  {
   "cell_type": "markdown",
   "metadata": {},
   "source": [
    "##### 4.1.Aprocximar la integral de una función dada."
   ]
  },
  {
   "cell_type": "code",
   "execution_count": 9,
   "metadata": {},
   "outputs": [],
   "source": [
    "def f(x):\n",
    "    return x*pow(np.e,x)\n",
    "\n",
    "def reglaPuntoMedio(b,a,n):\n",
    "    \n",
    "    deltaX = (b-a)/n\n",
    "    intervalos = set()\n",
    "    result = 0\n",
    "    aux = a + deltaX/2\n",
    "\n",
    "    for i in range(n):\n",
    "        intervalos.add(aux)\n",
    "        aux += deltaX\n",
    "\n",
    "    intervalos = list(intervalos)\n",
    "\n",
    "    for i in range(len(intervalos)):\n",
    "        result = result + f(intervalos[i])\n",
    "\n",
    "    result  = result * deltaX\n",
    "    return(result)"
   ]
  },
  {
   "cell_type": "code",
   "execution_count": 10,
   "metadata": {},
   "outputs": [
    {
     "name": "stdout",
     "output_type": "stream",
     "text": [
      "0.9997946153462958\n",
      "El error cometido es: 0.00020538465370423253\n"
     ]
    }
   ],
   "source": [
    "print(reglaPuntoMedio(1,0,30))\n",
    "print(\"El error cometido es:\",1-reglaPuntoMedio(1,0,30))"
   ]
  },
  {
   "cell_type": "code",
   "execution_count": 11,
   "metadata": {},
   "outputs": [
    {
     "name": "stdout",
     "output_type": "stream",
     "text": [
      "0.9999486516218687\n",
      "El error cometido es: 5.1348378131255146e-05\n"
     ]
    }
   ],
   "source": [
    "print(reglaPuntoMedio(1,0,60))\n",
    "print(\"El error cometido es:\",1-reglaPuntoMedio(1,0,60))"
   ]
  },
  {
   "cell_type": "code",
   "execution_count": 12,
   "metadata": {},
   "outputs": [
    {
     "name": "stdout",
     "output_type": "stream",
     "text": [
      "0.9999871627670417\n",
      "El error cometido es: 1.2837232958307077e-05\n"
     ]
    }
   ],
   "source": [
    "print(reglaPuntoMedio(1,0,120))\n",
    "print(\"El error cometido es:\",1-reglaPuntoMedio(1,0,120))"
   ]
  },
  {
   "cell_type": "code",
   "execution_count": 13,
   "metadata": {},
   "outputs": [
    {
     "name": "stdout",
     "output_type": "stream",
     "text": [
      "0.9999967906831065\n",
      "El error cometido es: 3.2093168934599348e-06\n"
     ]
    }
   ],
   "source": [
    "print(reglaPuntoMedio(1,0,240))\n",
    "print(\"El error cometido es:\",1-reglaPuntoMedio(1,0,240))"
   ]
  },
  {
   "cell_type": "markdown",
   "metadata": {},
   "source": [
    "##### 4.2.Regla del trapecio y la Regla de Simpson"
   ]
  },
  {
   "cell_type": "code",
   "execution_count": 14,
   "metadata": {},
   "outputs": [],
   "source": [
    "def trapecioSimple(a,b):\n",
    "    return (b-a)*(f(a)+f(b))*0.5\n",
    "\n",
    "def trapecioCompuesto(a,b,n):\n",
    "    if(a>b):\n",
    "        return trapecioCompuesto(b,a,n)\n",
    "    if(n<=0):\n",
    "        return trapecioCompuesto(a,b,1000)\n",
    "    i=1\n",
    "    x=a\n",
    "    suma = 0.0\n",
    "    h = (b-a)/n\n",
    "    while(i<=n):\n",
    "        if(x+h<=b):\n",
    "            suma = suma + trapecioSimple(x,x+h)\n",
    "        i = i +1\n",
    "        x = x+h\n",
    "    return suma\n",
    "            "
   ]
  },
  {
   "cell_type": "code",
   "execution_count": 26,
   "metadata": {},
   "outputs": [
    {
     "name": "stdout",
     "output_type": "stream",
     "text": [
      "1.0004107794318335\n",
      "El error cometido es: 0.00041077943183354115\n"
     ]
    }
   ],
   "source": [
    "print(trapecioCompuesto(0,1,30))\n",
    "print(\"El error cometido es:\",trapecioCompuesto(0,1,30)-1)"
   ]
  },
  {
   "cell_type": "code",
   "execution_count": 25,
   "metadata": {},
   "outputs": [
    {
     "name": "stdout",
     "output_type": "stream",
     "text": [
      "0.9555437096071654\n",
      "El error cometido es: 0.04445629039283461\n"
     ]
    }
   ],
   "source": [
    "print(trapecioCompuesto(0,1,60))\n",
    "print(\"El error cometido es:\",1-trapecioCompuesto(0,1,60))"
   ]
  },
  {
   "cell_type": "code",
   "execution_count": 23,
   "metadata": {},
   "outputs": [
    {
     "name": "stdout",
     "output_type": "stream",
     "text": [
      "1.000025674505463\n",
      "El error cometido es: 2.5674505462980335e-05\n"
     ]
    }
   ],
   "source": [
    "print(trapecioCompuesto(0,1,120))\n",
    "print(\"El error cometido es:\",trapecioCompuesto(0,1,120)-1)"
   ]
  },
  {
   "cell_type": "code",
   "execution_count": 27,
   "metadata": {},
   "outputs": [
    {
     "name": "stdout",
     "output_type": "stream",
     "text": [
      "1.0000064186362472\n",
      "El error cometido es: 6.418636247174092e-06\n"
     ]
    }
   ],
   "source": [
    "print(trapecioCompuesto(0,1,240))\n",
    "print(\"El error cometido es:\",trapecioCompuesto(0,1,240)-1)"
   ]
  },
  {
   "cell_type": "code",
   "execution_count": 18,
   "metadata": {},
   "outputs": [],
   "source": [
    "def simpson13(b,a,n,f):\n",
    "    h = (b-a) / n\n",
    "    suma = 0.0\n",
    "    for i in range(1,n):\n",
    "        x = a + i * h\n",
    "        \n",
    "        if(i%2 == 0):\n",
    "            suma = suma+ 2*fAux(x, f)\n",
    "        else:\n",
    "            suma = suma+4*fAux(x,f)\n",
    "\n",
    "    suma = suma + fAux(a,f) + fAux(b,f)\n",
    "    result = suma * (h/3)\n",
    "    return (result)\n",
    "\n",
    "def fAux(x, f):\n",
    "    return eval(f)"
   ]
  },
  {
   "cell_type": "code",
   "execution_count": 19,
   "metadata": {},
   "outputs": [
    {
     "name": "stdout",
     "output_type": "stream",
     "text": [
      "1.0000000539892424\n",
      "El error cometido es: 5.398924241006853e-08\n"
     ]
    }
   ],
   "source": [
    "print(simpson13(1, 0, 30, 'x*pow(np.e,x)'))\n",
    "print(\"El error cometido es:\",simpson13(1, 0, 30, 'x*pow(np.e,x)')-1)"
   ]
  },
  {
   "cell_type": "code",
   "execution_count": 20,
   "metadata": {},
   "outputs": [
    {
     "name": "stdout",
     "output_type": "stream",
     "text": [
      "1.0000000033748087\n",
      "El error cometido es: 3.374808654754702e-09\n"
     ]
    }
   ],
   "source": [
    "print(simpson13(1, 0, 60, 'x*pow(np.e,x)'))\n",
    "print(\"El error cometido es:\",simpson13(1, 0, 60, 'x*pow(np.e,x)')-1)"
   ]
  },
  {
   "cell_type": "code",
   "execution_count": 21,
   "metadata": {},
   "outputs": [
    {
     "name": "stdout",
     "output_type": "stream",
     "text": [
      "1.0000000002109333\n",
      "El error cometido es: 2.1093327084997782e-10\n"
     ]
    }
   ],
   "source": [
    "print(simpson13(1, 0, 120, 'x*pow(np.e,x)'))\n",
    "print(\"El error cometido es:\",simpson13(1, 0, 120, 'x*pow(np.e,x)')-1)"
   ]
  },
  {
   "cell_type": "code",
   "execution_count": 22,
   "metadata": {},
   "outputs": [
    {
     "name": "stdout",
     "output_type": "stream",
     "text": [
      "1.0000000000131826\n",
      "El error cometido es: 1.3182566149794184e-11\n"
     ]
    }
   ],
   "source": [
    "print(simpson13(1, 0, 240, 'x*pow(np.e,x)'))\n",
    "print(\"El error cometido es:\",simpson13(1, 0, 240, 'x*pow(np.e,x)')-1)"
   ]
  }
 ],
 "metadata": {
  "kernelspec": {
   "display_name": "Python 3",
   "language": "python",
   "name": "python3"
  },
  "language_info": {
   "codemirror_mode": {
    "name": "ipython",
    "version": 3
   },
   "file_extension": ".py",
   "mimetype": "text/x-python",
   "name": "python",
   "nbconvert_exporter": "python",
   "pygments_lexer": "ipython3",
   "version": "3.7.6"
  }
 },
 "nbformat": 4,
 "nbformat_minor": 4
}
