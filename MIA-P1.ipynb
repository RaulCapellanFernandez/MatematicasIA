{
 "cells": [
  {
   "cell_type": "markdown",
   "metadata": {},
   "source": [
    "# MATEMÁTICAS PARA IA : Raúl Capellán Fernández\n",
    "\n",
    "## PRÁCTICA 1"
   ]
  },
  {
   "cell_type": "code",
   "execution_count": 1,
   "metadata": {},
   "outputs": [],
   "source": [
    "import numpy as np\n",
    "from numpy import linalg as LA\n",
    "from timeit import default_timer as timer"
   ]
  },
  {
   "cell_type": "code",
   "execution_count": 2,
   "metadata": {},
   "outputs": [],
   "source": [
    "def pseudorandom_matrix(n):\n",
    "    \n",
    "    # Matriz aleatoria con valores comprendidos entre 0 y 1.\n",
    "    A=np.random.rand(n, n)\n",
    "\n",
    "    # Hago simétrica la matriz aleatoria generada anteriormente.\n",
    "    # Garantiza que la matriz es diagonalizable.\n",
    "    for i in range(0, n):\n",
    "        for j in range(i+1, n):\n",
    "            A[i, j]=A[j, i]\n",
    "    # Calculo la suma de los elementos de cada fila y me quedo con la máxima.      \n",
    "    maxrow=0\n",
    "    for i in range(0, n):\n",
    "        row=0\n",
    "        for j in range(0, n):\n",
    "            row=row+A[i, j]\n",
    "        if row>maxrow:\n",
    "            maxrow=row\n",
    "\n",
    "    # Divido todas las entradas de la matriz por el valor anterior.\n",
    "    # Garantiza que los valores propios se encuentran entre 0 y 1.\n",
    "    for i in range(0, n):\n",
    "        for j in range(0, n):\n",
    "            A[i, j]=A[i, j]/maxrow\n",
    "\n",
    "    return A"
   ]
  },
  {
   "cell_type": "markdown",
   "metadata": {},
   "source": [
    "### Ejercicio 1\n",
    " - Apartado A:"
   ]
  },
  {
   "cell_type": "code",
   "execution_count": 16,
   "metadata": {},
   "outputs": [],
   "source": [
    "u = np.array([1, 2])\n",
    "v = np.array([5, 6])"
   ]
  },
  {
   "cell_type": "code",
   "execution_count": 17,
   "metadata": {},
   "outputs": [
    {
     "name": "stdout",
     "output_type": "stream",
     "text": [
      "La proyeccion de u sobre v es: [1.39344262 1.67213115]\n"
     ]
    }
   ],
   "source": [
    "v_norm = np.sqrt(sum(v**2))\n",
    "proyeccionUV = (np.dot(u, v)/v_norm**2)*v\n",
    "print(\"La proyeccion de u sobre v es:\", proyeccionUV) "
   ]
  },
  {
   "cell_type": "code",
   "execution_count": 20,
   "metadata": {},
   "outputs": [
    {
     "name": "stdout",
     "output_type": "stream",
     "text": [
      "17\n",
      "No son vectores ortogonales\n"
     ]
    }
   ],
   "source": [
    "ortogonal = u@v\n",
    "print(ortogonal)\n",
    "if(ortogonal == 0):\n",
    "    print('Son vectores ortogonales')\n",
    "else:\n",
    "    print('No son vectores ortogonales')"
   ]
  },
  {
   "cell_type": "code",
   "execution_count": 22,
   "metadata": {},
   "outputs": [
    {
     "name": "stdout",
     "output_type": "stream",
     "text": [
      "[23.68852459 28.42622951]\n"
     ]
    }
   ],
   "source": [
    "pEscalarProOrto = proyeccionUV * ortogonal\n",
    "print(pEscalarProOrto)"
   ]
  },
  {
   "cell_type": "markdown",
   "metadata": {},
   "source": [
    "El producto de estos dos valores va a ser un vector del tamaño del vector proyeccion. \n",
    "\n",
    "Al no ser el producto escalar igual a cero, podemos afirmar que no se corresponden con un vector ortogonal.\n",
    "\n",
    "Se puede decir que la posicion relativa de ambos vecctores no es la misma."
   ]
  },
  {
   "cell_type": "markdown",
   "metadata": {},
   "source": [
    "- Apartado B: Multiplicar matrices"
   ]
  },
  {
   "cell_type": "code",
   "execution_count": 5,
   "metadata": {},
   "outputs": [],
   "source": [
    "def multiplicaMatriz(a,b):\n",
    "    fA = np.shape(a)[0]\n",
    "    cA = np.shape(a)[1]\n",
    "    \n",
    "    fB = np.shape(b)[0]\n",
    "    cB = np.shape(b)[1]\n",
    "\n",
    "    if(cA != fB):\n",
    "        print('No son compatibles no se pueden multiplicar')\n",
    "        return(\"No se pueden multiplicar\")\n",
    "\n",
    "    result = np.zeros((fA,cB))\n",
    "\n",
    "    for i in range(fA):\n",
    "        for j in range(cB):\n",
    "            for k in range(cA):\n",
    "                result[i][j] = result[i][j] + a[i][k] * b[k][j]\n",
    "    return result"
   ]
  },
  {
   "cell_type": "code",
   "execution_count": 6,
   "metadata": {},
   "outputs": [
    {
     "name": "stdout",
     "output_type": "stream",
     "text": [
      "[[27. 27. 27.]\n",
      " [18. 18. 18.]]\n"
     ]
    }
   ],
   "source": [
    "a= [[3,3,3], [2,2,2]]\n",
    "b= [[3,3,3], [2,2,2],[4,4,4]]\n",
    "\n",
    "print(multiplicaMatriz(a,b))"
   ]
  },
  {
   "cell_type": "markdown",
   "metadata": {},
   "source": [
    "- Apartado C: calcular determinante"
   ]
  },
  {
   "cell_type": "code",
   "execution_count": 7,
   "metadata": {},
   "outputs": [],
   "source": [
    "def calculaDeterminante(a, total=0):\n",
    "    indices = list(range(len(a)))\n",
    "     \n",
    "    if len(a) == 2 and len(a[0]) == 2:\n",
    "        val = a[0][0] * a[1][1] - a[1][0] * a[0][1]\n",
    "        return val\n",
    " \n",
    "    for i in indices: \n",
    "        copyA = a.copy() \n",
    "        copyA = copyA[1:]\n",
    "        altura = len(copyA) \n",
    " \n",
    "        for j in range(altura): \n",
    "            copyA[j] = copyA[j][0:i] + copyA[j][i+1:] \n",
    " \n",
    "        signo = (-1) ** (i % 2)\n",
    "        subDet = calculaDeterminante(copyA)\n",
    "        total += signo * a[0][i] * subDet \n",
    " \n",
    "    return total\n"
   ]
  },
  {
   "cell_type": "code",
   "execution_count": 8,
   "metadata": {},
   "outputs": [
    {
     "name": "stdout",
     "output_type": "stream",
     "text": [
      "2142\n"
     ]
    }
   ],
   "source": [
    "b= [[3,3,3], [2,4,10],[123,4,4]]\n",
    "print(calculaDeterminante(b))"
   ]
  },
  {
   "cell_type": "markdown",
   "metadata": {},
   "source": [
    "### Ejercicio 2\n",
    "- Apartado A: A^k"
   ]
  },
  {
   "cell_type": "code",
   "execution_count": 9,
   "metadata": {},
   "outputs": [],
   "source": [
    "def matrizExponente(matriz,aux,k):\n",
    "    if(k == 1):\n",
    "        print(matriz)\n",
    "        return\n",
    "    \n",
    "    matriz = multiplicaMatriz(matriz,aux)\n",
    "    matrizExponente(matriz,aux,k-1)"
   ]
  },
  {
   "cell_type": "code",
   "execution_count": 10,
   "metadata": {},
   "outputs": [
    {
     "name": "stdout",
     "output_type": "stream",
     "text": [
      "[[ 384.   33.   51.]\n",
      " [1244.   62.   86.]\n",
      " [ 869.  401.  425.]]\n"
     ]
    }
   ],
   "source": [
    "matrizExponente(b,b,2)"
   ]
  },
  {
   "cell_type": "markdown",
   "metadata": {},
   "source": [
    "- Apartado B: A^k Diagonal"
   ]
  },
  {
   "cell_type": "code",
   "execution_count": 11,
   "metadata": {},
   "outputs": [],
   "source": [
    "def matrizExponenteDiagonal(matriz,k):\n",
    "    valPropios, vecPropios = LA.eig(matriz)\n",
    "\n",
    "    p = vecPropios\n",
    "    pInversa = LA.inv(p)\n",
    "\n",
    "    mDiagonal = np.zeros((np.shape(matriz)[0], np.shape(matriz)[1]),int)\n",
    "    np.fill_diagonal(mDiagonal,k)\n",
    "\n",
    "    result = multiplicaMatriz(p,mDiagonal)\n",
    "    result = multiplicaMatriz(result,pInversa)\n",
    "    print(result)"
   ]
  },
  {
   "cell_type": "code",
   "execution_count": 12,
   "metadata": {},
   "outputs": [
    {
     "name": "stdout",
     "output_type": "stream",
     "text": [
      "[[ 1.13317723  0.18268861  0.07250635]\n",
      " [ 5.37671081  0.86682277 -0.44974092]\n",
      " [ 0.          0.          2.        ]]\n"
     ]
    },
    {
     "name": "stderr",
     "output_type": "stream",
     "text": [
      "/Users/cp/opt/anaconda3/lib/python3.7/site-packages/ipykernel_launcher.py:17: ComplexWarning: Casting complex values to real discards the imaginary part\n"
     ]
    }
   ],
   "source": [
    "matrizExponenteDiagonal(b,2)"
   ]
  },
  {
   "cell_type": "markdown",
   "metadata": {},
   "source": [
    "- Apartado C: tiempos de ejecucion"
   ]
  },
  {
   "cell_type": "code",
   "execution_count": 13,
   "metadata": {},
   "outputs": [],
   "source": [
    "matriz = pseudorandom_matrix(50)"
   ]
  },
  {
   "cell_type": "code",
   "execution_count": 14,
   "metadata": {},
   "outputs": [
    {
     "name": "stdout",
     "output_type": "stream",
     "text": [
      "Tiempo de ejecucion A^k Diagonal\n",
      "[[ 1.00000000e+02  9.29117894e-15  1.51545443e-14 ... -5.95010152e-15\n",
      "  -2.98094882e-14 -1.66533454e-15]\n",
      " [ 2.32799890e-15  1.00000000e+02  3.44169138e-15 ...  7.63278329e-16\n",
      "  -1.34892097e-14 -3.55271368e-15]\n",
      " [ 9.93649607e-15 -1.11022302e-16  1.00000000e+02 ... -2.16493490e-15\n",
      "   2.30926389e-14 -9.76996262e-15]\n",
      " ...\n",
      " [ 8.27463098e-15 -4.48946436e-15  3.22519789e-14 ...  1.00000000e+02\n",
      "   3.49720253e-15  3.88578059e-15]\n",
      " [ 3.60822483e-16 -7.79931675e-15  3.99680289e-15 ... -5.32907052e-15\n",
      "   1.00000000e+02  1.33226763e-15]\n",
      " [ 5.44009282e-15  2.18713936e-14  1.42108547e-14 ... -3.21964677e-15\n",
      "  -9.32587341e-15  1.00000000e+02]]\n",
      "0.588769077\n",
      "----------------------\n",
      " 0.588769077 Segundos\n",
      "----------------------\n",
      "\n"
     ]
    }
   ],
   "source": [
    "start = timer()\n",
    "print(\"Tiempo de ejecucion A^k Diagonal\")\n",
    "matrizExponenteDiagonal(matriz,100)\n",
    "end = timer()\n",
    "print(end - start)\n",
    "print(\"----------------------\\n\",end - start,\"Segundos\\n----------------------\\n\")"
   ]
  },
  {
   "cell_type": "code",
   "execution_count": 15,
   "metadata": {},
   "outputs": [
    {
     "name": "stdout",
     "output_type": "stream",
     "text": [
      "Tiempo de ejecucion A^k\n",
      "[[2.13968496e-10 1.91464877e-10 2.02996628e-10 ... 1.53986770e-10\n",
      "  2.24438337e-10 1.46280567e-10]\n",
      " [1.91464877e-10 1.71328022e-10 1.81646949e-10 ... 1.37791584e-10\n",
      "  2.00833578e-10 1.30895862e-10]\n",
      " [2.02996628e-10 1.81646949e-10 1.92587374e-10 ... 1.46090643e-10\n",
      "  2.12929597e-10 1.38779597e-10]\n",
      " ...\n",
      " [1.53986770e-10 1.37791584e-10 1.46090643e-10 ... 1.10819704e-10\n",
      "  1.61521604e-10 1.05273778e-10]\n",
      " [2.24438337e-10 2.00833578e-10 2.12929597e-10 ... 1.61521604e-10\n",
      "  2.35420485e-10 1.53438323e-10]\n",
      " [1.46280567e-10 1.30895862e-10 1.38779597e-10 ... 1.05273778e-10\n",
      "  1.53438323e-10 1.00005396e-10]]\n",
      "22.708069998\n",
      "----------------------\n",
      " 22.708069998 Segundos\n",
      "----------------------\n",
      "\n"
     ]
    }
   ],
   "source": [
    "start = timer()\n",
    "print(\"Tiempo de ejecucion A^k\")\n",
    "matrizExponente(matriz,matriz,100)\n",
    "end = timer()\n",
    "print(end - start)\n",
    "print(\"----------------------\\n\",end - start,\"Segundos\\n----------------------\\n\")"
   ]
  },
  {
   "cell_type": "code",
   "execution_count": null,
   "metadata": {},
   "outputs": [],
   "source": []
  }
 ],
 "metadata": {
  "kernelspec": {
   "display_name": "Python 3",
   "language": "python",
   "name": "python3"
  },
  "language_info": {
   "codemirror_mode": {
    "name": "ipython",
    "version": 3
   },
   "file_extension": ".py",
   "mimetype": "text/x-python",
   "name": "python",
   "nbconvert_exporter": "python",
   "pygments_lexer": "ipython3",
   "version": "3.7.6"
  }
 },
 "nbformat": 4,
 "nbformat_minor": 4
}
