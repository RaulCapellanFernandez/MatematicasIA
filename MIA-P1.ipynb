{
 "cells": [
  {
   "cell_type": "markdown",
   "metadata": {},
   "source": [
    "# MATEMÁTICAS PARA IA : Raúl Capellán Fernández\n",
    "\n",
    "## PRÁCTICA 1"
   ]
  },
  {
   "cell_type": "code",
   "execution_count": 1,
   "metadata": {},
   "outputs": [],
   "source": [
    "import numpy as np\n",
    "from numpy import linalg as LA\n",
    "from timeit import default_timer as timer"
   ]
  },
  {
   "cell_type": "code",
   "execution_count": 2,
   "metadata": {},
   "outputs": [],
   "source": [
    "def pseudorandom_matrix(n):\n",
    "    \n",
    "    # Matriz aleatoria con valores comprendidos entre 0 y 1.\n",
    "    A=np.random.rand(n, n)\n",
    "\n",
    "    # Hago simétrica la matriz aleatoria generada anteriormente.\n",
    "    # Garantiza que la matriz es diagonalizable.\n",
    "    for i in range(0, n):\n",
    "        for j in range(i+1, n):\n",
    "            A[i, j]=A[j, i]\n",
    "    # Calculo la suma de los elementos de cada fila y me quedo con la máxima.      \n",
    "    maxrow=0\n",
    "    for i in range(0, n):\n",
    "        row=0\n",
    "        for j in range(0, n):\n",
    "            row=row+A[i, j]\n",
    "        if row>maxrow:\n",
    "            maxrow=row\n",
    "\n",
    "    # Divido todas las entradas de la matriz por el valor anterior.\n",
    "    # Garantiza que los valores propios se encuentran entre 0 y 1.\n",
    "    for i in range(0, n):\n",
    "        for j in range(0, n):\n",
    "            A[i, j]=A[i, j]/maxrow\n",
    "\n",
    "    return A"
   ]
  },
  {
   "cell_type": "markdown",
   "metadata": {},
   "source": [
    "### Ejercicio 1\n",
    " - Apartado A:"
   ]
  },
  {
   "cell_type": "code",
   "execution_count": 3,
   "metadata": {},
   "outputs": [],
   "source": [
    "u = np.array([1, 2])\n",
    "v = np.array([5, 6])"
   ]
  },
  {
   "cell_type": "code",
   "execution_count": 4,
   "metadata": {},
   "outputs": [
    {
     "name": "stdout",
     "output_type": "stream",
     "text": [
      "La proyeccion de u sobre v es: [1.39344262 1.67213115]\n"
     ]
    }
   ],
   "source": [
    "v_norm = np.sqrt(sum(v**2))\n",
    "proyeccionUV = (np.dot(u, v)/v_norm**2)*v\n",
    "print(\"La proyeccion de u sobre v es:\", proyeccionUV) "
   ]
  },
  {
   "cell_type": "code",
   "execution_count": 5,
   "metadata": {},
   "outputs": [
    {
     "name": "stdout",
     "output_type": "stream",
     "text": [
      "17\n",
      "No son vectores ortogonales\n"
     ]
    }
   ],
   "source": [
    "ortogonal = u@v\n",
    "print(ortogonal)\n",
    "if(ortogonal == 0):\n",
    "    print('Son vectores ortogonales')\n",
    "else:\n",
    "    print('No son vectores ortogonales')"
   ]
  },
  {
   "cell_type": "code",
   "execution_count": 6,
   "metadata": {},
   "outputs": [
    {
     "name": "stdout",
     "output_type": "stream",
     "text": [
      "[23.68852459 28.42622951]\n"
     ]
    }
   ],
   "source": [
    "pEscalarProOrto = proyeccionUV * ortogonal\n",
    "print(pEscalarProOrto)"
   ]
  },
  {
   "cell_type": "markdown",
   "metadata": {},
   "source": [
    "El producto de estos dos valores va a ser un vector del tamaño del vector proyeccion. \n",
    "\n",
    "Al no ser el producto escalar igual a cero, podemos afirmar que no se corresponden con un vector ortogonal.\n",
    "\n",
    "Se puede decir que la posicion relativa de ambos vecctores no es la misma."
   ]
  },
  {
   "cell_type": "markdown",
   "metadata": {},
   "source": [
    "- Apartado B: Multiplicar matrices"
   ]
  },
  {
   "cell_type": "code",
   "execution_count": 7,
   "metadata": {},
   "outputs": [],
   "source": [
    "def multiplicaMatriz(a,b):\n",
    "    fA = np.shape(a)[0]\n",
    "    cA = np.shape(a)[1]\n",
    "    \n",
    "    fB = np.shape(b)[0]\n",
    "    cB = np.shape(b)[1]\n",
    "\n",
    "    if(cA != fB):\n",
    "        print('No son compatibles no se pueden multiplicar')\n",
    "        return(\"No se pueden multiplicar\")\n",
    "\n",
    "    result = np.zeros((fA,cB))\n",
    "\n",
    "    for i in range(fA):\n",
    "        for j in range(cB):\n",
    "            for k in range(cA):\n",
    "                result[i][j] = result[i][j] + a[i][k] * b[k][j]\n",
    "    return result"
   ]
  },
  {
   "cell_type": "code",
   "execution_count": 8,
   "metadata": {},
   "outputs": [
    {
     "name": "stdout",
     "output_type": "stream",
     "text": [
      "[[27. 27. 27.]\n",
      " [18. 18. 18.]]\n"
     ]
    }
   ],
   "source": [
    "a= [[3,3,3], [2,2,2]]\n",
    "b= [[3,3,3], [2,2,2],[4,4,4]]\n",
    "\n",
    "print(multiplicaMatriz(a,b))"
   ]
  },
  {
   "cell_type": "markdown",
   "metadata": {},
   "source": [
    "- Apartado C: calcular determinante"
   ]
  },
  {
   "cell_type": "code",
   "execution_count": 26,
   "metadata": {},
   "outputs": [],
   "source": [
    "def esCuadrada(a):\n",
    "    if len(a)!= len(a[0]):\n",
    "        return 0\n",
    "    return 1\n",
    "\n",
    "def calculaDeterminante(a, total=0):\n",
    "    indices = list(range(len(a)))\n",
    "    if len(a) == 2 and len(a[0]) == 2:\n",
    "        val = a[0][0] * a[1][1] - a[1][0] * a[0][1]\n",
    "        return val\n",
    "    \n",
    "    for i in indices: \n",
    "        copyA = a.copy() \n",
    "        copyA = copyA[1:]\n",
    "        altura = len(copyA) \n",
    " \n",
    "        for j in range(altura): \n",
    "            copyA[j] = copyA[j][0:i] + copyA[j][i+1:] \n",
    " \n",
    "        signo = (-1) ** (i % 2)\n",
    "        subDet = calculaDeterminante(copyA)\n",
    "        total += signo * a[0][i] * subDet \n",
    " \n",
    "    return total\n"
   ]
  },
  {
   "cell_type": "code",
   "execution_count": 27,
   "metadata": {},
   "outputs": [
    {
     "name": "stdout",
     "output_type": "stream",
     "text": [
      "2142\n"
     ]
    }
   ],
   "source": [
    "b= [[3,3,3], [2,4,10],[123,4,4]]\n",
    "\n",
    "a = esCuadrada(b)\n",
    "if(a==1):\n",
    "    print(calculaDeterminante(b))"
   ]
  },
  {
   "cell_type": "markdown",
   "metadata": {},
   "source": [
    "### Ejercicio 2\n",
    "- Apartado A: A^k"
   ]
  },
  {
   "cell_type": "code",
   "execution_count": null,
   "metadata": {},
   "outputs": [],
   "source": [
    "def matrizExponente(matriz,aux,k):\n",
    "    if(k == 1):\n",
    "        print(matriz)\n",
    "        return\n",
    "    \n",
    "    matriz = multiplicaMatriz(matriz,aux)\n",
    "    matrizExponente(matriz,aux,k-1)"
   ]
  },
  {
   "cell_type": "code",
   "execution_count": null,
   "metadata": {},
   "outputs": [],
   "source": [
    "matrizExponente(b,b,2)"
   ]
  },
  {
   "cell_type": "markdown",
   "metadata": {},
   "source": [
    "- Apartado B: A^k Diagonal"
   ]
  },
  {
   "cell_type": "code",
   "execution_count": null,
   "metadata": {},
   "outputs": [],
   "source": [
    "def matrizExponenteDiagonal(matriz,k):\n",
    "    valPropios, vecPropios = LA.eig(matriz)\n",
    "\n",
    "    p = vecPropios\n",
    "    pInversa = LA.inv(p)\n",
    "\n",
    "    mDiagonal = np.zeros((np.shape(matriz)[0], np.shape(matriz)[1]),int)\n",
    "    np.fill_diagonal(mDiagonal,k)\n",
    "\n",
    "    result = multiplicaMatriz(p,mDiagonal)\n",
    "    result = multiplicaMatriz(result,pInversa)\n",
    "    print(result)"
   ]
  },
  {
   "cell_type": "code",
   "execution_count": null,
   "metadata": {},
   "outputs": [],
   "source": [
    "matrizExponenteDiagonal(b,2)"
   ]
  },
  {
   "cell_type": "markdown",
   "metadata": {},
   "source": [
    "- Apartado C: tiempos de ejecucion"
   ]
  },
  {
   "cell_type": "code",
   "execution_count": null,
   "metadata": {},
   "outputs": [],
   "source": [
    "matriz = pseudorandom_matrix(50)"
   ]
  },
  {
   "cell_type": "code",
   "execution_count": null,
   "metadata": {},
   "outputs": [],
   "source": [
    "start = timer()\n",
    "print(\"Tiempo de ejecucion A^k Diagonal\")\n",
    "matrizExponenteDiagonal(matriz,100)\n",
    "end = timer()\n",
    "print(end - start)\n",
    "print(\"----------------------\\n\",end - start,\"Segundos\\n----------------------\\n\")"
   ]
  },
  {
   "cell_type": "code",
   "execution_count": null,
   "metadata": {},
   "outputs": [],
   "source": [
    "start = timer()\n",
    "print(\"Tiempo de ejecucion A^k\")\n",
    "matrizExponente(matriz,matriz,100)\n",
    "end = timer()\n",
    "print(end - start)\n",
    "print(\"----------------------\\n\",end - start,\"Segundos\\n----------------------\\n\")"
   ]
  },
  {
   "cell_type": "code",
   "execution_count": null,
   "metadata": {},
   "outputs": [],
   "source": []
  }
 ],
 "metadata": {
  "kernelspec": {
   "display_name": "Python 3",
   "language": "python",
   "name": "python3"
  },
  "language_info": {
   "codemirror_mode": {
    "name": "ipython",
    "version": 3
   },
   "file_extension": ".py",
   "mimetype": "text/x-python",
   "name": "python",
   "nbconvert_exporter": "python",
   "pygments_lexer": "ipython3",
   "version": "3.7.6"
  }
 },
 "nbformat": 4,
 "nbformat_minor": 4
}
