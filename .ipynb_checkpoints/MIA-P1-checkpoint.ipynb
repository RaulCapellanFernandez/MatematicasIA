{
 "cells": [
  {
   "cell_type": "markdown",
   "metadata": {},
   "source": [
    "# MATEMÁTICAS PARA IA : Raúl Capellán Fernández\n",
    "\n",
    "## PRÁCTICA 1"
   ]
  },
  {
   "cell_type": "code",
   "execution_count": 1,
   "metadata": {},
   "outputs": [],
   "source": [
    "import numpy as np\n",
    "from numpy import linalg as LA\n",
    "from timeit import default_timer as timer"
   ]
  },
  {
   "cell_type": "code",
   "execution_count": 2,
   "metadata": {},
   "outputs": [],
   "source": [
    "def pseudorandom_matrix(n):\n",
    "    \n",
    "    # Matriz aleatoria con valores comprendidos entre 0 y 1.\n",
    "    A=np.random.rand(n, n)\n",
    "\n",
    "    # Hago simétrica la matriz aleatoria generada anteriormente.\n",
    "    # Garantiza que la matriz es diagonalizable.\n",
    "    for i in range(0, n):\n",
    "        for j in range(i+1, n):\n",
    "            A[i, j]=A[j, i]\n",
    "    # Calculo la suma de los elementos de cada fila y me quedo con la máxima.      \n",
    "    maxrow=0\n",
    "    for i in range(0, n):\n",
    "        row=0\n",
    "        for j in range(0, n):\n",
    "            row=row+A[i, j]\n",
    "        if row>maxrow:\n",
    "            maxrow=row\n",
    "\n",
    "    # Divido todas las entradas de la matriz por el valor anterior.\n",
    "    # Garantiza que los valores propios se encuentran entre 0 y 1.\n",
    "    for i in range(0, n):\n",
    "        for j in range(0, n):\n",
    "            A[i, j]=A[i, j]/maxrow\n",
    "\n",
    "    return A"
   ]
  },
  {
   "cell_type": "markdown",
   "metadata": {},
   "source": [
    "### Ejercicio 1\n",
    " - Apartado A:"
   ]
  },
  {
   "cell_type": "code",
   "execution_count": 41,
   "metadata": {},
   "outputs": [],
   "source": [
    "u = np.array([1, 2, 3])\n",
    "v = np.array([5, 6, 2])"
   ]
  },
  {
   "cell_type": "code",
   "execution_count": 42,
   "metadata": {},
   "outputs": [
    {
     "name": "stdout",
     "output_type": "stream",
     "text": [
      "La proyeccion de u sobre v es: [1.76923077 2.12307692 0.70769231]\n"
     ]
    }
   ],
   "source": [
    "v_norm = np.sqrt(sum(v**2))\n",
    "proyeccionUV = (np.dot(u, v)/v_norm**2)*v\n",
    "print(\"La proyeccion de u sobre v es:\", proyeccionUV) "
   ]
  },
  {
   "cell_type": "code",
   "execution_count": null,
   "metadata": {},
   "outputs": [],
   "source": []
  },
  {
   "cell_type": "markdown",
   "metadata": {},
   "source": [
    "- Apartado B: Multiplicar matrices"
   ]
  },
  {
   "cell_type": "code",
   "execution_count": 4,
   "metadata": {},
   "outputs": [],
   "source": [
    "def multiplicaMatriz(a,b):\n",
    "    fA = np.shape(a)[0]\n",
    "    cA = np.shape(a)[1]\n",
    "    \n",
    "    fB = np.shape(b)[0]\n",
    "    cB = np.shape(b)[1]\n",
    "\n",
    "    if(cA != fB):\n",
    "        print('No son compatibles no se pueden multiplicar')\n",
    "        return(\"No se pueden multiplicar\")\n",
    "\n",
    "    result = np.zeros((fA,cB))\n",
    "\n",
    "    for i in range(fA):\n",
    "        for j in range(cB):\n",
    "            for k in range(cA):\n",
    "                result[i][j] = result[i][j] + a[i][k] * b[k][j]\n",
    "    return result"
   ]
  },
  {
   "cell_type": "code",
   "execution_count": 5,
   "metadata": {},
   "outputs": [
    {
     "name": "stdout",
     "output_type": "stream",
     "text": [
      "[[27. 27. 27.]\n",
      " [18. 18. 18.]]\n"
     ]
    }
   ],
   "source": [
    "a= [[3,3,3], [2,2,2]]\n",
    "b= [[3,3,3], [2,2,2],[4,4,4]]\n",
    "\n",
    "print(multiplicaMatriz(a,b))"
   ]
  },
  {
   "cell_type": "markdown",
   "metadata": {},
   "source": [
    "- Apartado C: calcular determinante"
   ]
  },
  {
   "cell_type": "code",
   "execution_count": 6,
   "metadata": {},
   "outputs": [],
   "source": [
    "def calculaDeterminante(a, total=0):\n",
    "    indices = list(range(len(a)))\n",
    "     \n",
    "    if len(a) == 2 and len(a[0]) == 2:\n",
    "        val = a[0][0] * a[1][1] - a[1][0] * a[0][1]\n",
    "        return val\n",
    " \n",
    "    for i in indices: \n",
    "        copyA = a.copy() \n",
    "        copyA = copyA[1:]\n",
    "        altura = len(copyA) \n",
    " \n",
    "        for j in range(altura): \n",
    "            copyA[j] = copyA[j][0:i] + copyA[j][i+1:] \n",
    " \n",
    "        signo = (-1) ** (i % 2)\n",
    "        subDet = calculaDeterminante(copyA)\n",
    "        total += signo * a[0][i] * subDet \n",
    " \n",
    "    return total\n"
   ]
  },
  {
   "cell_type": "code",
   "execution_count": 7,
   "metadata": {},
   "outputs": [
    {
     "name": "stdout",
     "output_type": "stream",
     "text": [
      "2142\n"
     ]
    }
   ],
   "source": [
    "b= [[3,3,3], [2,4,10],[123,4,4]]\n",
    "print(calculaDeterminante(b))"
   ]
  },
  {
   "cell_type": "markdown",
   "metadata": {},
   "source": [
    "### Ejercicio 2\n",
    "- Apartado A: A^k"
   ]
  },
  {
   "cell_type": "code",
   "execution_count": 8,
   "metadata": {},
   "outputs": [],
   "source": [
    "def matrizExponente(matriz,aux,k):\n",
    "    if(k == 1):\n",
    "        print(matriz)\n",
    "        return\n",
    "    \n",
    "    matriz = multiplicaMatriz(matriz,aux)\n",
    "    matrizExponente(matriz,aux,k-1)"
   ]
  },
  {
   "cell_type": "code",
   "execution_count": 9,
   "metadata": {},
   "outputs": [
    {
     "name": "stdout",
     "output_type": "stream",
     "text": [
      "[[ 384.   33.   51.]\n",
      " [1244.   62.   86.]\n",
      " [ 869.  401.  425.]]\n"
     ]
    }
   ],
   "source": [
    "matrizExponente(b,b,2)"
   ]
  },
  {
   "cell_type": "markdown",
   "metadata": {},
   "source": [
    "- Apartado B: A^k Diagonal"
   ]
  },
  {
   "cell_type": "code",
   "execution_count": 10,
   "metadata": {},
   "outputs": [],
   "source": [
    "def matrizExponenteDiagonal(matriz,k):\n",
    "    valPropios, vecPropios = LA.eig(matriz)\n",
    "\n",
    "    p = vecPropios\n",
    "    pInversa = LA.inv(p)\n",
    "\n",
    "    mDiagonal = np.zeros((np.shape(matriz)[0], np.shape(matriz)[1]),int)\n",
    "    np.fill_diagonal(mDiagonal,k)\n",
    "\n",
    "    result = multiplicaMatriz(p,mDiagonal)\n",
    "    result = multiplicaMatriz(result,pInversa)\n",
    "    print(result)"
   ]
  },
  {
   "cell_type": "code",
   "execution_count": 11,
   "metadata": {},
   "outputs": [
    {
     "name": "stdout",
     "output_type": "stream",
     "text": [
      "[[ 1.13317723  0.18268861  0.07250635]\n",
      " [ 5.37671081  0.86682277 -0.44974092]\n",
      " [ 0.          0.          2.        ]]\n"
     ]
    },
    {
     "name": "stderr",
     "output_type": "stream",
     "text": [
      "/Users/cp/opt/anaconda3/lib/python3.7/site-packages/ipykernel_launcher.py:17: ComplexWarning: Casting complex values to real discards the imaginary part\n"
     ]
    }
   ],
   "source": [
    "matrizExponenteDiagonal(b,2)"
   ]
  },
  {
   "cell_type": "markdown",
   "metadata": {},
   "source": [
    "- Apartado C: tiempos de ejecucion"
   ]
  },
  {
   "cell_type": "code",
   "execution_count": 12,
   "metadata": {},
   "outputs": [],
   "source": [
    "matriz = pseudorandom_matrix(50)"
   ]
  },
  {
   "cell_type": "code",
   "execution_count": 13,
   "metadata": {},
   "outputs": [
    {
     "name": "stdout",
     "output_type": "stream",
     "text": [
      "Tiempo de ejecucion A^k Diagonal\n",
      "[[ 1.00000000e+02  1.06026299e-14  5.79397641e-15 ... -4.94049246e-15\n",
      "   2.78388423e-14 -1.24900090e-15]\n",
      " [-6.66133815e-16  1.00000000e+02  1.21569421e-14 ... -5.32907052e-15\n",
      "   1.79856130e-14  4.88498131e-15]\n",
      " [-2.77555756e-16  1.99840144e-15  1.00000000e+02 ... -4.44089210e-15\n",
      "   9.99200722e-16  6.66133815e-16]\n",
      " ...\n",
      " [ 2.05946371e-14  1.55431223e-15 -7.32747196e-15 ...  1.00000000e+02\n",
      "   3.55271368e-15 -1.33226763e-15]\n",
      " [ 5.32907052e-15  2.30926389e-14 -7.60502772e-15 ... -2.88657986e-15\n",
      "   1.00000000e+02 -1.15463195e-14]\n",
      " [ 3.56104035e-14  8.43769499e-15  1.50990331e-14 ...  2.66453526e-15\n",
      "  -1.13242749e-14  1.00000000e+02]]\n",
      "0.7534486609999997\n",
      "----------------------\n",
      " 0.7534486609999997 Segundos\n",
      "----------------------\n",
      "\n"
     ]
    }
   ],
   "source": [
    "start = timer()\n",
    "print(\"Tiempo de ejecucion A^k Diagonal\")\n",
    "matrizExponenteDiagonal(matriz,100)\n",
    "end = timer()\n",
    "print(end - start)\n",
    "print(\"----------------------\\n\",end - start,\"Segundos\\n----------------------\\n\")"
   ]
  },
  {
   "cell_type": "code",
   "execution_count": 14,
   "metadata": {},
   "outputs": [
    {
     "name": "stdout",
     "output_type": "stream",
     "text": [
      "Tiempo de ejecucion A^k\n",
      "[[6.41250884e-08 6.64262024e-08 7.64343626e-08 ... 6.76211461e-08\n",
      "  7.51525466e-08 7.40263037e-08]\n",
      " [6.64262024e-08 6.88098915e-08 7.91771922e-08 ... 7.00477154e-08\n",
      "  7.78493785e-08 7.66827206e-08]\n",
      " [7.64343626e-08 7.91771922e-08 9.11064910e-08 ... 8.06015139e-08\n",
      "  8.95786212e-08 8.82361878e-08]\n",
      " ...\n",
      " [6.76211461e-08 7.00477154e-08 8.06015139e-08 ... 7.13078066e-08\n",
      "  7.92498142e-08 7.80621692e-08]\n",
      " [7.51525466e-08 7.78493785e-08 8.95786212e-08 ... 7.92498142e-08\n",
      "  8.80763740e-08 8.67564534e-08]\n",
      " [7.40263037e-08 7.66827206e-08 8.82361878e-08 ... 7.80621692e-08\n",
      "  8.67564534e-08 8.54563132e-08]]\n",
      "23.051123971000003\n",
      "----------------------\n",
      " 23.051123971000003 Segundos\n",
      "----------------------\n",
      "\n"
     ]
    }
   ],
   "source": [
    "start = timer()\n",
    "print(\"Tiempo de ejecucion A^k\")\n",
    "matrizExponente(matriz,matriz,100)\n",
    "end = timer()\n",
    "print(end - start)\n",
    "print(\"----------------------\\n\",end - start,\"Segundos\\n----------------------\\n\")"
   ]
  },
  {
   "cell_type": "code",
   "execution_count": null,
   "metadata": {},
   "outputs": [],
   "source": []
  }
 ],
 "metadata": {
  "kernelspec": {
   "display_name": "Python 3",
   "language": "python",
   "name": "python3"
  },
  "language_info": {
   "codemirror_mode": {
    "name": "ipython",
    "version": 3
   },
   "file_extension": ".py",
   "mimetype": "text/x-python",
   "name": "python",
   "nbconvert_exporter": "python",
   "pygments_lexer": "ipython3",
   "version": "3.7.6"
  }
 },
 "nbformat": 4,
 "nbformat_minor": 4
}
